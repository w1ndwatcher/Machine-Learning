{
 "cells": [
  {
   "cell_type": "code",
   "execution_count": 23,
   "metadata": {},
   "outputs": [
    {
     "data": {
      "text/html": [
       "<div>\n",
       "<style scoped>\n",
       "    .dataframe tbody tr th:only-of-type {\n",
       "        vertical-align: middle;\n",
       "    }\n",
       "\n",
       "    .dataframe tbody tr th {\n",
       "        vertical-align: top;\n",
       "    }\n",
       "\n",
       "    .dataframe thead th {\n",
       "        text-align: right;\n",
       "    }\n",
       "</style>\n",
       "<table border=\"1\" class=\"dataframe\">\n",
       "  <thead>\n",
       "    <tr style=\"text-align: right;\">\n",
       "      <th></th>\n",
       "      <th>Name</th>\n",
       "      <th>Gender</th>\n",
       "      <th>Age</th>\n",
       "      <th>Profession</th>\n",
       "      <th>Hobby</th>\n",
       "      <th>Hometown</th>\n",
       "      <th>Matriculation Marks</th>\n",
       "    </tr>\n",
       "  </thead>\n",
       "  <tbody>\n",
       "    <tr>\n",
       "      <th>0</th>\n",
       "      <td>Praveen</td>\n",
       "      <td>Male</td>\n",
       "      <td>34.0</td>\n",
       "      <td>Doctor</td>\n",
       "      <td>Singing</td>\n",
       "      <td>Lucknow</td>\n",
       "      <td>76.0</td>\n",
       "    </tr>\n",
       "    <tr>\n",
       "      <th>1</th>\n",
       "      <td>Rahul</td>\n",
       "      <td>Male</td>\n",
       "      <td>31.0</td>\n",
       "      <td>Engineer</td>\n",
       "      <td>Cricket</td>\n",
       "      <td>Bangalore</td>\n",
       "      <td>81.0</td>\n",
       "    </tr>\n",
       "    <tr>\n",
       "      <th>2</th>\n",
       "      <td>Rohit</td>\n",
       "      <td>Male</td>\n",
       "      <td>36.0</td>\n",
       "      <td>Engineer</td>\n",
       "      <td>Singing</td>\n",
       "      <td>Mumbai</td>\n",
       "      <td>87.0</td>\n",
       "    </tr>\n",
       "    <tr>\n",
       "      <th>3</th>\n",
       "      <td>Virat</td>\n",
       "      <td>Male</td>\n",
       "      <td>42.0</td>\n",
       "      <td>Teacher</td>\n",
       "      <td>Dancing</td>\n",
       "      <td>Delhi</td>\n",
       "      <td>88.0</td>\n",
       "    </tr>\n",
       "    <tr>\n",
       "      <th>4</th>\n",
       "      <td>Shreyas</td>\n",
       "      <td>Male</td>\n",
       "      <td>29.0</td>\n",
       "      <td>Singer</td>\n",
       "      <td>Cooking</td>\n",
       "      <td>Bangalore</td>\n",
       "      <td>72.0</td>\n",
       "    </tr>\n",
       "  </tbody>\n",
       "</table>\n",
       "</div>"
      ],
      "text/plain": [
       "      Name Gender   Age Profession    Hobby   Hometown  Matriculation Marks\n",
       "0  Praveen   Male  34.0     Doctor  Singing    Lucknow                 76.0\n",
       "1    Rahul   Male  31.0   Engineer  Cricket  Bangalore                 81.0\n",
       "2    Rohit   Male  36.0   Engineer  Singing     Mumbai                 87.0\n",
       "3    Virat   Male  42.0    Teacher  Dancing      Delhi                 88.0\n",
       "4  Shreyas   Male  29.0     Singer  Cooking  Bangalore                 72.0"
      ]
     },
     "execution_count": 23,
     "metadata": {},
     "output_type": "execute_result"
    }
   ],
   "source": [
    "import pandas as pd\n",
    "df = pd.read_excel(\"sample_data.xlsx\")\n",
    "df.head()"
   ]
  },
  {
   "cell_type": "code",
   "execution_count": 25,
   "metadata": {},
   "outputs": [
    {
     "data": {
      "text/plain": [
       "82.46666666666667"
      ]
     },
     "execution_count": 25,
     "metadata": {},
     "output_type": "execute_result"
    }
   ],
   "source": [
    "df['Matriculation Marks'].mean()"
   ]
  },
  {
   "cell_type": "code",
   "execution_count": 3,
   "metadata": {},
   "outputs": [
    {
     "name": "stdout",
     "output_type": "stream",
     "text": [
      "<class 'pandas.core.frame.DataFrame'>\n",
      "RangeIndex: 18 entries, 0 to 17\n",
      "Data columns (total 7 columns):\n",
      " #   Column               Non-Null Count  Dtype  \n",
      "---  ------               --------------  -----  \n",
      " 0   Name                 18 non-null     object \n",
      " 1   Gender               18 non-null     object \n",
      " 2   Age                  17 non-null     float64\n",
      " 3   Profession           18 non-null     object \n",
      " 4   Hobby                18 non-null     object \n",
      " 5   Hometown             18 non-null     object \n",
      " 6   Matriculation Marks  15 non-null     float64\n",
      "dtypes: float64(2), object(5)\n",
      "memory usage: 1.1+ KB\n"
     ]
    }
   ],
   "source": [
    "df.info()"
   ]
  },
  {
   "cell_type": "markdown",
   "metadata": {},
   "source": [
    "Data Selection"
   ]
  },
  {
   "cell_type": "code",
   "execution_count": 4,
   "metadata": {},
   "outputs": [],
   "source": [
    "data = {\n",
    "    'Name' : ['Dogo','Cato','Enemy cato','Bully dogo'],\n",
    "    'Age' : [2,12,14,23],\n",
    "    'City' : ['Keechad', 'Fud Benke', 'Enemy malik', 'Also keechad']\n",
    "}"
   ]
  },
  {
   "cell_type": "code",
   "execution_count": 5,
   "metadata": {},
   "outputs": [],
   "source": [
    "df1 = pd.DataFrame(data)"
   ]
  },
  {
   "cell_type": "markdown",
   "metadata": {},
   "source": [
    "* selecting a single column"
   ]
  },
  {
   "cell_type": "code",
   "execution_count": 6,
   "metadata": {},
   "outputs": [
    {
     "name": "stdout",
     "output_type": "stream",
     "text": [
      "0          Dogo\n",
      "1          Cato\n",
      "2    Enemy cato\n",
      "3    Bully dogo\n",
      "Name: Name, dtype: object\n"
     ]
    }
   ],
   "source": [
    "single_column = df1['Name']\n",
    "print(single_column)"
   ]
  },
  {
   "cell_type": "markdown",
   "metadata": {},
   "source": [
    "* selecting multiple columns"
   ]
  },
  {
   "cell_type": "code",
   "execution_count": 7,
   "metadata": {},
   "outputs": [
    {
     "name": "stdout",
     "output_type": "stream",
     "text": [
      "         Name          City\n",
      "0        Dogo       Keechad\n",
      "1        Cato     Fud Benke\n",
      "2  Enemy cato   Enemy malik\n",
      "3  Bully dogo  Also keechad\n"
     ]
    }
   ],
   "source": [
    "multiple_columns = df1[['Name','City']]\n",
    "print(multiple_columns)"
   ]
  },
  {
   "cell_type": "markdown",
   "metadata": {},
   "source": [
    "Filtering Data"
   ]
  },
  {
   "cell_type": "code",
   "execution_count": 9,
   "metadata": {},
   "outputs": [
    {
     "name": "stdout",
     "output_type": "stream",
     "text": [
      "         Name  Age          City\n",
      "3  Bully dogo   23  Also keechad\n"
     ]
    }
   ],
   "source": [
    "filtered_rows = df1[df1['Age'] > 15]\n",
    "print(filtered_rows)"
   ]
  },
  {
   "cell_type": "code",
   "execution_count": 12,
   "metadata": {},
   "outputs": [
    {
     "name": "stdout",
     "output_type": "stream",
     "text": [
      "   Name  Age     City\n",
      "0  Dogo    2  Keechad\n"
     ]
    }
   ],
   "source": [
    "filtered_rows_multicon = df1[(df1['Age'] < 15) & (df1['City']==\"Keechad\")]\n",
    "print(filtered_rows_multicon)"
   ]
  },
  {
   "cell_type": "code",
   "execution_count": null,
   "metadata": {},
   "outputs": [],
   "source": [
    "filter_rowcol_toget = df.iloc[]"
   ]
  },
  {
   "cell_type": "markdown",
   "metadata": {},
   "source": [
    "handling missing data"
   ]
  },
  {
   "cell_type": "code",
   "execution_count": 13,
   "metadata": {},
   "outputs": [
    {
     "name": "stdout",
     "output_type": "stream",
     "text": [
      "       Name  Gender   Age Profession      Hobby   Hometown  \\\n",
      "0   Praveen    Male  34.0     Doctor    Singing    Lucknow   \n",
      "1     Rahul    Male  31.0   Engineer    Cricket  Bangalore   \n",
      "2     Rohit    Male  36.0   Engineer    Singing     Mumbai   \n",
      "3     Virat    Male  42.0    Teacher    Dancing      Delhi   \n",
      "4   Shreyas    Male  29.0     Singer    Cooking  Bangalore   \n",
      "5    Ishaan    Male  44.0     Doctor    Dancing    Kolkata   \n",
      "6     Umesh    Male  27.0   Engineer    Singing    Chennai   \n",
      "9    Babita  Female  31.0   Engineer    Cooking  Ahmedabad   \n",
      "11    Kirti  Female  34.0    Teacher  Sketching   Guwahati   \n",
      "12     Puja  Female  26.0     Singer    Cooking    Kolkata   \n",
      "13  Sangita  Female  23.0   Engineer    Cricket    Kolkata   \n",
      "14    Priya  Female  25.0      Actor    Dancing       Pune   \n",
      "15    Angad    Male  28.0   Engineer    Singing      Delhi   \n",
      "17    Divya  Female  24.0     Doctor   Exercise     Jaipur   \n",
      "\n",
      "    Matriculation Marks  \n",
      "0                  76.0  \n",
      "1                  81.0  \n",
      "2                  87.0  \n",
      "3                  88.0  \n",
      "4                  72.0  \n",
      "5                  92.0  \n",
      "6                  79.0  \n",
      "9                  86.0  \n",
      "11                 94.0  \n",
      "12                 77.0  \n",
      "13                 89.0  \n",
      "14                 68.0  \n",
      "15                 67.0  \n",
      "17                 91.0  \n"
     ]
    }
   ],
   "source": [
    "# remove rows with missing data\n",
    "df_cleaned = df.dropna()\n",
    "print(df_cleaned)"
   ]
  },
  {
   "cell_type": "code",
   "execution_count": 14,
   "metadata": {},
   "outputs": [
    {
     "name": "stdout",
     "output_type": "stream",
     "text": [
      "       Name  Gender Profession      Hobby   Hometown\n",
      "0   Praveen    Male     Doctor    Singing    Lucknow\n",
      "1     Rahul    Male   Engineer    Cricket  Bangalore\n",
      "2     Rohit    Male   Engineer    Singing     Mumbai\n",
      "3     Virat    Male    Teacher    Dancing      Delhi\n",
      "4   Shreyas    Male     Singer    Cooking  Bangalore\n",
      "5    Ishaan    Male     Doctor    Dancing    Kolkata\n",
      "6     Umesh    Male   Engineer    Singing    Chennai\n",
      "7    Vineet    Male      Actor  Sketching    Gurgaon\n",
      "8     Aarti  Female     Singer  Sketching    Lucknow\n",
      "9    Babita  Female   Engineer    Cooking  Ahmedabad\n",
      "10    Kusum  Female   Engineer  Sketching  Hyderabad\n",
      "11    Kirti  Female    Teacher  Sketching   Guwahati\n",
      "12     Puja  Female     Singer    Cooking    Kolkata\n",
      "13  Sangita  Female   Engineer    Cricket    Kolkata\n",
      "14    Priya  Female      Actor    Dancing       Pune\n",
      "15    Angad    Male   Engineer    Singing      Delhi\n",
      "16    Suman    Male      Actor   Exercise     Mumbai\n",
      "17    Divya  Female     Doctor   Exercise     Jaipur\n"
     ]
    }
   ],
   "source": [
    "# remove columns with missing data\n",
    "df_cleaned = df.dropna(axis=1)\n",
    "print(df_cleaned)"
   ]
  },
  {
   "cell_type": "code",
   "execution_count": 26,
   "metadata": {},
   "outputs": [
    {
     "name": "stdout",
     "output_type": "stream",
     "text": [
      "None\n"
     ]
    }
   ],
   "source": [
    "# fill na values instead of dropping\n",
    "#df_filled = df.fillna(1)\n",
    "# convert all \n",
    "df_filled = df.fillna(df['Matriculation Marks'].mean(), inplace=True)\n",
    "print(df_filled)"
   ]
  },
  {
   "cell_type": "code",
   "execution_count": null,
   "metadata": {},
   "outputs": [],
   "source": [
    "df['Matriculation Marks'].fillna(df['Matriculation Marks'].mean(), inplace=True)\n",
    "print(df)"
   ]
  }
 ],
 "metadata": {
  "kernelspec": {
   "display_name": "Python 3",
   "language": "python",
   "name": "python3"
  },
  "language_info": {
   "codemirror_mode": {
    "name": "ipython",
    "version": 3
   },
   "file_extension": ".py",
   "mimetype": "text/x-python",
   "name": "python",
   "nbconvert_exporter": "python",
   "pygments_lexer": "ipython3",
   "version": "3.10.5"
  },
  "orig_nbformat": 4
 },
 "nbformat": 4,
 "nbformat_minor": 2
}
